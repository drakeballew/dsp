{
 "cells": [
  {
   "cell_type": "code",
   "execution_count": null,
   "metadata": {},
   "outputs": [],
   "source": [
    "import sys\n",
    "print(\"Python Version:\", sys.version, '\\n')"
   ]
  },
  {
   "cell_type": "markdown",
   "metadata": {},
   "source": [
    "# Pickle: Saving Objects for Later"
   ]
  },
  {
   "cell_type": "markdown",
   "metadata": {},
   "source": [
    "Often in data science, we'll create some model or some version of our data and want to use it later. We have many options - we can save the coefficients, or save the data to csv, or...\n",
    "\n",
    "Actually, we don't have that many options. \n",
    "\n",
    "One way to overcome that is to save the python object to a file as a serialized object. That means we convert the entire object to a bunch of bytes, save those bytes into a file, and then have the ability to unpack those bytes back into their original format later. \n",
    "\n",
    "This is done by a module called `pickle`. Let's see it in action."
   ]
  },
  {
   "cell_type": "code",
   "execution_count": 1,
   "metadata": {},
   "outputs": [],
   "source": [
    "import pickle\n",
    "import random\n",
    "\n",
    "lots_of_noise = {\n",
    "    'CA': [random.randint(0,65) for _ in range(100)],\n",
    "    'IL': [random.randint(0,65) for _ in range(50)],\n",
    "    'NY': [random.randint(0,65) for _ in range(90)],\n",
    "    'WA': [random.randint(0,65) for _ in range(33)]\n",
    "}"
   ]
  },
  {
   "cell_type": "code",
   "execution_count": 2,
   "metadata": {},
   "outputs": [
    {
     "name": "stdout",
     "output_type": "stream",
     "text": [
      "{'CA': [17, 13, 24, 34, 54, 17, 24, 32, 51, 24, 46, 64, 27, 7, 6, 30, 20, 49, 45, 36, 6, 63, 2, 27, 51, 5, 46, 22, 10, 12, 46, 25, 50, 52, 42, 37, 29, 31, 50, 32, 44, 39, 26, 30, 24, 41, 5, 12, 20, 49, 48, 43, 63, 62, 22, 34, 55, 33, 13, 59, 62, 62, 34, 39, 4, 64, 12, 27, 1, 8, 41, 10, 61, 27, 40, 47, 45, 39, 10, 41, 7, 15, 27, 58, 59, 26, 53, 65, 28, 45, 46, 30, 28, 59, 23, 50, 23, 20, 65, 4], 'IL': [34, 5, 26, 9, 42, 60, 3, 44, 43, 17, 25, 22, 10, 27, 60, 22, 7, 7, 16, 10, 17, 40, 65, 41, 21, 64, 20, 57, 29, 27, 63, 14, 29, 34, 32, 22, 30, 3, 17, 5, 10, 0, 14, 46, 42, 54, 55, 19, 26, 50], 'NY': [11, 17, 42, 4, 39, 37, 49, 2, 64, 52, 50, 37, 45, 3, 49, 2, 2, 53, 52, 44, 8, 24, 47, 8, 4, 58, 19, 19, 7, 32, 32, 27, 62, 62, 51, 27, 47, 55, 6, 21, 36, 40, 57, 52, 5, 65, 25, 59, 16, 56, 19, 15, 5, 2, 36, 45, 3, 31, 5, 41, 41, 8, 35, 46, 48, 38, 62, 12, 60, 42, 3, 49, 34, 17, 55, 16, 60, 7, 9, 41, 24, 22, 23, 19, 7, 38, 2, 55, 21, 5], 'WA': [37, 56, 1, 13, 11, 48, 24, 20, 31, 25, 39, 14, 3, 52, 47, 34, 46, 4, 5, 27, 64, 4, 17, 60, 36, 10, 65, 42, 19, 27, 10, 23, 53]}\n"
     ]
    }
   ],
   "source": [
    "print(lots_of_noise)"
   ]
  },
  {
   "cell_type": "code",
   "execution_count": 3,
   "metadata": {},
   "outputs": [
    {
     "name": "stdout",
     "output_type": "stream",
     "text": [
      "Variable        Type      Data/Info\n",
      "-----------------------------------\n",
      "lots_of_noise   dict      n=4\n",
      "pickle          module    <module 'pickle' from '/a<...>lib/python3.7/pickle.py'>\n",
      "random          module    <module 'random' from '/a<...>lib/python3.7/random.py'>\n"
     ]
    }
   ],
   "source": [
    "whos"
   ]
  },
  {
   "cell_type": "markdown",
   "metadata": {},
   "source": [
    "We can see in this `whos` command that the object `lots_of_noise` exists and is a `dict` with 4 keys. Nice. Now let's look at our file system and verify that there isn't a file called `noise.pickle`."
   ]
  },
  {
   "cell_type": "code",
   "execution_count": 4,
   "metadata": {},
   "outputs": [
    {
     "name": "stdout",
     "output_type": "stream",
     "text": [
      "advanced_python_datatypes.ipynb       my_dataframe.pickle\r\n",
      "deep_and_shallow_copy.ipynb           noise.pickle\r\n",
      "\u001b[34mdeep_copy_demo\u001b[m\u001b[m                        pickle_saving_objects_for_later.ipynb\r\n",
      "instructor_guide_week1_day4.md        readme.md\r\n"
     ]
    }
   ],
   "source": [
    "!ls"
   ]
  },
  {
   "cell_type": "markdown",
   "metadata": {},
   "source": [
    "Okay, now we're ready to create a file and write the bytes to it. To do this with `pickle`, we use python's read-write streamer `open` and create a writable-binary (`wb`) file. We'll then use `pickle.dump` to put an object into that file as a string of bytes."
   ]
  },
  {
   "cell_type": "code",
   "execution_count": 5,
   "metadata": {},
   "outputs": [],
   "source": [
    "with open('noise.pickle', 'wb') as to_write:\n",
    "    pickle.dump(lots_of_noise, to_write)"
   ]
  },
  {
   "cell_type": "code",
   "execution_count": 6,
   "metadata": {},
   "outputs": [
    {
     "name": "stdout",
     "output_type": "stream",
     "text": [
      "advanced_python_datatypes.ipynb       my_dataframe.pickle\r\n",
      "deep_and_shallow_copy.ipynb           noise.pickle\r\n",
      "\u001b[34mdeep_copy_demo\u001b[m\u001b[m                        pickle_saving_objects_for_later.ipynb\r\n",
      "instructor_guide_week1_day4.md        readme.md\r\n"
     ]
    }
   ],
   "source": [
    "!ls"
   ]
  },
  {
   "cell_type": "markdown",
   "metadata": {},
   "source": [
    "Now let's delete `lots_of_noise` and prove to ourselves it doesn't exist in Python's memory anymore."
   ]
  },
  {
   "cell_type": "code",
   "execution_count": 7,
   "metadata": {},
   "outputs": [],
   "source": [
    "del lots_of_noise"
   ]
  },
  {
   "cell_type": "code",
   "execution_count": 8,
   "metadata": {},
   "outputs": [
    {
     "name": "stdout",
     "output_type": "stream",
     "text": [
      "Variable   Type              Data/Info\n",
      "--------------------------------------\n",
      "pickle     module            <module 'pickle' from '/a<...>lib/python3.7/pickle.py'>\n",
      "random     module            <module 'random' from '/a<...>lib/python3.7/random.py'>\n",
      "to_write   BufferedWriter    <_io.BufferedWriter name='noise.pickle'>\n"
     ]
    }
   ],
   "source": [
    "whos"
   ]
  },
  {
   "cell_type": "code",
   "execution_count": 9,
   "metadata": {},
   "outputs": [
    {
     "ename": "NameError",
     "evalue": "name 'lots_of_noise' is not defined",
     "output_type": "error",
     "traceback": [
      "\u001b[0;31m---------------------------------------------------------------------------\u001b[0m",
      "\u001b[0;31mNameError\u001b[0m                                 Traceback (most recent call last)",
      "\u001b[0;32m<ipython-input-9-69f22b4d5ca8>\u001b[0m in \u001b[0;36m<module>\u001b[0;34m\u001b[0m\n\u001b[0;32m----> 1\u001b[0;31m \u001b[0mprint\u001b[0m\u001b[0;34m(\u001b[0m\u001b[0mlots_of_noise\u001b[0m\u001b[0;34m)\u001b[0m\u001b[0;34m\u001b[0m\u001b[0;34m\u001b[0m\u001b[0m\n\u001b[0m",
      "\u001b[0;31mNameError\u001b[0m: name 'lots_of_noise' is not defined"
     ]
    }
   ],
   "source": [
    "print(lots_of_noise)"
   ]
  },
  {
   "cell_type": "markdown",
   "metadata": {},
   "source": [
    "Lovely. It's dead forever. Or is it?\n",
    "\n",
    "Let's open that `noise.pickle` file with read-binary (`rb`) mode. Then we'll ask pickle to retrieve the file with `pickle.load` and store it back in a variable."
   ]
  },
  {
   "cell_type": "code",
   "execution_count": 10,
   "metadata": {},
   "outputs": [],
   "source": [
    "with open('noise.pickle','rb') as read_file:\n",
    "    new_noise = pickle.load(read_file)"
   ]
  },
  {
   "cell_type": "code",
   "execution_count": 11,
   "metadata": {},
   "outputs": [
    {
     "name": "stdout",
     "output_type": "stream",
     "text": [
      "{'CA': [17, 13, 24, 34, 54, 17, 24, 32, 51, 24, 46, 64, 27, 7, 6, 30, 20, 49, 45, 36, 6, 63, 2, 27, 51, 5, 46, 22, 10, 12, 46, 25, 50, 52, 42, 37, 29, 31, 50, 32, 44, 39, 26, 30, 24, 41, 5, 12, 20, 49, 48, 43, 63, 62, 22, 34, 55, 33, 13, 59, 62, 62, 34, 39, 4, 64, 12, 27, 1, 8, 41, 10, 61, 27, 40, 47, 45, 39, 10, 41, 7, 15, 27, 58, 59, 26, 53, 65, 28, 45, 46, 30, 28, 59, 23, 50, 23, 20, 65, 4], 'IL': [34, 5, 26, 9, 42, 60, 3, 44, 43, 17, 25, 22, 10, 27, 60, 22, 7, 7, 16, 10, 17, 40, 65, 41, 21, 64, 20, 57, 29, 27, 63, 14, 29, 34, 32, 22, 30, 3, 17, 5, 10, 0, 14, 46, 42, 54, 55, 19, 26, 50], 'NY': [11, 17, 42, 4, 39, 37, 49, 2, 64, 52, 50, 37, 45, 3, 49, 2, 2, 53, 52, 44, 8, 24, 47, 8, 4, 58, 19, 19, 7, 32, 32, 27, 62, 62, 51, 27, 47, 55, 6, 21, 36, 40, 57, 52, 5, 65, 25, 59, 16, 56, 19, 15, 5, 2, 36, 45, 3, 31, 5, 41, 41, 8, 35, 46, 48, 38, 62, 12, 60, 42, 3, 49, 34, 17, 55, 16, 60, 7, 9, 41, 24, 22, 23, 19, 7, 38, 2, 55, 21, 5], 'WA': [37, 56, 1, 13, 11, 48, 24, 20, 31, 25, 39, 14, 3, 52, 47, 34, 46, 4, 5, 27, 64, 4, 17, 60, 36, 10, 65, 42, 19, 27, 10, 23, 53]}\n"
     ]
    }
   ],
   "source": [
    "print(new_noise)"
   ]
  },
  {
   "cell_type": "code",
   "execution_count": 12,
   "metadata": {},
   "outputs": [
    {
     "name": "stdout",
     "output_type": "stream",
     "text": [
      "Variable    Type              Data/Info\n",
      "---------------------------------------\n",
      "new_noise   dict              n=4\n",
      "pickle      module            <module 'pickle' from '/a<...>lib/python3.7/pickle.py'>\n",
      "random      module            <module 'random' from '/a<...>lib/python3.7/random.py'>\n",
      "read_file   BufferedReader    <_io.BufferedReader name='noise.pickle'>\n",
      "to_write    BufferedWriter    <_io.BufferedWriter name='noise.pickle'>\n"
     ]
    }
   ],
   "source": [
    "whos"
   ]
  },
  {
   "cell_type": "markdown",
   "metadata": {},
   "source": [
    "Random noise lives! We retrieved the entire structure from file. Nice."
   ]
  },
  {
   "cell_type": "markdown",
   "metadata": {},
   "source": [
    "### Okay, but I don't use dictionaries... I use pandas."
   ]
  },
  {
   "cell_type": "code",
   "execution_count": 13,
   "metadata": {},
   "outputs": [
    {
     "data": {
      "text/html": [
       "<div>\n",
       "<style scoped>\n",
       "    .dataframe tbody tr th:only-of-type {\n",
       "        vertical-align: middle;\n",
       "    }\n",
       "\n",
       "    .dataframe tbody tr th {\n",
       "        vertical-align: top;\n",
       "    }\n",
       "\n",
       "    .dataframe thead th {\n",
       "        text-align: right;\n",
       "    }\n",
       "</style>\n",
       "<table border=\"1\" class=\"dataframe\">\n",
       "  <thead>\n",
       "    <tr style=\"text-align: right;\">\n",
       "      <th></th>\n",
       "      <th>Yay</th>\n",
       "      <th>specific</th>\n",
       "      <th>column</th>\n",
       "      <th>names</th>\n",
       "    </tr>\n",
       "  </thead>\n",
       "  <tbody>\n",
       "    <tr>\n",
       "      <th>0</th>\n",
       "      <td>8.545148</td>\n",
       "      <td>-0.204046</td>\n",
       "      <td>8.027798</td>\n",
       "      <td>-0.014514</td>\n",
       "    </tr>\n",
       "    <tr>\n",
       "      <th>1</th>\n",
       "      <td>9.240386</td>\n",
       "      <td>-3.676158</td>\n",
       "      <td>8.756644</td>\n",
       "      <td>0.747321</td>\n",
       "    </tr>\n",
       "    <tr>\n",
       "      <th>2</th>\n",
       "      <td>6.968623</td>\n",
       "      <td>3.907204</td>\n",
       "      <td>-5.423996</td>\n",
       "      <td>-5.019553</td>\n",
       "    </tr>\n",
       "    <tr>\n",
       "      <th>3</th>\n",
       "      <td>6.600367</td>\n",
       "      <td>-9.952656</td>\n",
       "      <td>8.648736</td>\n",
       "      <td>6.735309</td>\n",
       "    </tr>\n",
       "    <tr>\n",
       "      <th>4</th>\n",
       "      <td>-4.861495</td>\n",
       "      <td>-6.801048</td>\n",
       "      <td>3.717425</td>\n",
       "      <td>-2.418522</td>\n",
       "    </tr>\n",
       "  </tbody>\n",
       "</table>\n",
       "</div>"
      ],
      "text/plain": [
       "        Yay  specific    column     names\n",
       "0  8.545148 -0.204046  8.027798 -0.014514\n",
       "1  9.240386 -3.676158  8.756644  0.747321\n",
       "2  6.968623  3.907204 -5.423996 -5.019553\n",
       "3  6.600367 -9.952656  8.648736  6.735309\n",
       "4 -4.861495 -6.801048  3.717425 -2.418522"
      ]
     },
     "execution_count": 13,
     "metadata": {},
     "output_type": "execute_result"
    }
   ],
   "source": [
    "import pandas as pd\n",
    "import numpy as np\n",
    "\n",
    "df = pd.DataFrame(np.random.uniform(-10,10, size=(100,4)), columns=['Yay','specific','column','names'])\n",
    "df.head(5)"
   ]
  },
  {
   "cell_type": "code",
   "execution_count": null,
   "metadata": {},
   "outputs": [],
   "source": [
    "with open('my_dataframe.pickle', 'wb') as to_write:\n",
    "    pickle.dump(df, to_write)"
   ]
  },
  {
   "cell_type": "code",
   "execution_count": null,
   "metadata": {},
   "outputs": [],
   "source": [
    "del df\n",
    "\n",
    "df.head(5)"
   ]
  },
  {
   "cell_type": "code",
   "execution_count": null,
   "metadata": {},
   "outputs": [],
   "source": [
    "with open('my_dataframe.pickle','rb') as read_file:\n",
    "    new_df = pickle.load(read_file)\n",
    "    \n",
    "new_df.head(5)"
   ]
  },
  {
   "cell_type": "markdown",
   "metadata": {},
   "source": [
    "Pickle is a great tool. One recommended way of using it is to make it an end point of every step in your process. Example:\n",
    "\n",
    "* I got my data! Nice. Pickle it and stop your \"getting the data\" notebook.\n",
    "* Load your data from pickle. Clean it. Save your clean data to a new pickle.\n",
    "* Load your cleaned_data pickle. Do analysis and visualize it.\n",
    "\n",
    "This can provide natural \"pick-up-where-I-left-off-but-before-I-broke-my-data\" points. It's a great way to control the flow of your data.\n",
    "\n",
    "#### Resources\n",
    "\n",
    "https://docs.python.org/3.7/library/pickle.html"
   ]
  },
  {
   "cell_type": "code",
   "execution_count": null,
   "metadata": {},
   "outputs": [],
   "source": []
  }
 ],
 "metadata": {
  "kernelspec": {
   "display_name": "Python 3",
   "language": "python",
   "name": "python3"
  },
  "language_info": {
   "codemirror_mode": {
    "name": "ipython",
    "version": 3
   },
   "file_extension": ".py",
   "mimetype": "text/x-python",
   "name": "python",
   "nbconvert_exporter": "python",
   "pygments_lexer": "ipython3",
   "version": "3.7.2"
  }
 },
 "nbformat": 4,
 "nbformat_minor": 1
}
